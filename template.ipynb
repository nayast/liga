{
 "cells": [
  {
   "cell_type": "code",
   "execution_count": null,
   "id": "c0f990e6-849e-48f2-92f0-a198f3bf730e",
   "metadata": {},
   "outputs": [],
   "source": []
  }
 ],
 "metadata": {
  "kernelspec": {
   "display_name": "",
   "name": ""
  },
  "language_info": {
   "name": ""
  }
 },
 "nbformat": 4,
 "nbformat_minor": 5
}
